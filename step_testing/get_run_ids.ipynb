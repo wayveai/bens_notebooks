{
 "cells": [
  {
   "cell_type": "code",
   "execution_count": 16,
   "metadata": {},
   "outputs": [],
   "source": [
    "from wayve.services.data.lakehouse.common.external_access.wayve_delta_table import WayveDeltaTable\n",
    "\n",
    "import numpy as np\n",
    "import pandas as pd\n",
    "\n",
    "SEED = 42\n",
    "OUT_FILE = \"/mnt/remote/data/benjin/test_steps_utils/1000_random_run_ids.csv\""
   ]
  },
  {
   "cell_type": "code",
   "execution_count": 17,
   "metadata": {},
   "outputs": [],
   "source": [
    "df = WayveDeltaTable.from_database_and_table_name(\"label__metadata\", \"run_metadata\").to_pandas_dataframe()"
   ]
  },
  {
   "cell_type": "code",
   "execution_count": 18,
   "metadata": {},
   "outputs": [
    {
     "name": "stdout",
     "output_type": "stream",
     "text": [
      "Number of unique run ids:  289144\n"
     ]
    }
   ],
   "source": [
    "\n",
    "np.random.seed(SEED)\n",
    "\n",
    "unique_run_ids = df[\"run_id\"].unique()\n",
    "\n",
    "selected_run_ids = np.random.choice(unique_run_ids, 1000, replace=False)\n",
    "\n",
    "print(\"Number of unique run ids: \", len(unique_run_ids))"
   ]
  },
  {
   "cell_type": "code",
   "execution_count": 19,
   "metadata": {},
   "outputs": [],
   "source": [
    "\n",
    "selected_run_ids_df = pd.DataFrame(selected_run_ids, columns=['run_id'])\n",
    "\n",
    "selected_run_ids_df.to_csv(OUT_FILE, index=False, header=False)\n"
   ]
  }
 ],
 "metadata": {
  "kernelspec": {
   "display_name": "Python 3 (ipykernel)",
   "language": "python",
   "name": "python3"
  }
 },
 "nbformat": 4,
 "nbformat_minor": 2
}
