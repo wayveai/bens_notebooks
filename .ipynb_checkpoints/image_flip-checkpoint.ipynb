{
 "cells": [
  {
   "cell_type": "code",
   "execution_count": 1,
   "id": "10a8184e",
   "metadata": {},
   "outputs": [
    {
     "name": "stdout",
     "output_type": "stream",
     "text": [
      "The directory already exists\n"
     ]
    }
   ],
   "source": [
    "# Notebook for doing some image manipulation with calibration data\n",
    "%matplotlib inline\n",
    "import cv2\n",
    "import matplotlib.pyplot as plt\n",
    "import os\n",
    "import numpy as np\n",
    "\n",
    "# Some figures paths and options\n",
    "figures_path = \"./figures/\"\n",
    "try:\n",
    "    os.mkdir(figures_path)\n",
    "except OSError as error:\n",
    "    print('The directory already exists')"
   ]
  },
  {
   "cell_type": "code",
   "execution_count": 2,
   "id": "2615013b",
   "metadata": {},
   "outputs": [
    {
     "name": "stderr",
     "output_type": "stream",
     "text": [
      "[ WARN:0@0.096] global loadsave.cpp:248 findDecoder imread_('/home/benjin/Development/wcs/intrinsics/logs/notebooks/1520531124150444163.png'): can't open/read file: check file path/integrity\n"
     ]
    },
    {
     "ename": "error",
     "evalue": "OpenCV(4.8.0) /io/opencv/modules/imgproc/src/color.cpp:182: error: (-215:Assertion failed) !_src.empty() in function 'cvtColor'\n",
     "output_type": "error",
     "traceback": [
      "\u001b[0;31m---------------------------------------------------------------------------\u001b[0m",
      "\u001b[0;31merror\u001b[0m                                     Traceback (most recent call last)",
      "Cell \u001b[0;32mIn[2], line 8\u001b[0m\n\u001b[1;32m      6\u001b[0m \u001b[38;5;66;03m# Show the original distorted image\u001b[39;00m\n\u001b[1;32m      7\u001b[0m plt\u001b[38;5;241m.\u001b[39mtitle(\u001b[38;5;124m'\u001b[39m\u001b[38;5;124mOriginal TUM-VI Image\u001b[39m\u001b[38;5;124m'\u001b[39m)\n\u001b[0;32m----> 8\u001b[0m plt\u001b[38;5;241m.\u001b[39mimshow(\u001b[43mcv2\u001b[49m\u001b[38;5;241;43m.\u001b[39;49m\u001b[43mcvtColor\u001b[49m\u001b[43m(\u001b[49m\u001b[43mimg_dist\u001b[49m\u001b[43m,\u001b[49m\u001b[43m \u001b[49m\u001b[43mcv2\u001b[49m\u001b[38;5;241;43m.\u001b[39;49m\u001b[43mCOLOR_GRAY2RGB\u001b[49m\u001b[43m)\u001b[49m)\n\u001b[1;32m      9\u001b[0m plt\u001b[38;5;241m.\u001b[39mshow()\n",
      "\u001b[0;31merror\u001b[0m: OpenCV(4.8.0) /io/opencv/modules/imgproc/src/color.cpp:182: error: (-215:Assertion failed) !_src.empty() in function 'cvtColor'\n"
     ]
    },
    {
     "data": {
      "image/png": "[encoded data removed]",
      "text/plain": [
       "<Figure size 432x288 with 1 Axes>"
      ]
     },
     "metadata": {
      "needs_background": "light"
     },
     "output_type": "display_data"
    }
   ],
   "source": [
    "# Image path\n",
    "img_path = \"/home/benjin/Development/wcs/intrinsics/logs/notebooks/1520531124150444163.png\"\n",
    "\n",
    "img_dist = cv2.imread(img_path, cv2.IMREAD_GRAYSCALE)\n",
    "\n",
    "# Show the original distorted image\n",
    "plt.title('Original TUM-VI Image')\n",
    "plt.imshow(cv2.cvtColor(img_dist, cv2.COLOR_GRAY2RGB))\n",
    "plt.show()"
   ]
  },
  {
   "cell_type": "code",
   "execution_count": null,
   "id": "4819e98d",
   "metadata": {},
   "outputs": [],
   "source": [
    "# Camera intrinsics\n",
    "K = np.zeros([3,3])\n",
    "K[0][0] = 190.97847715128717\n",
    "K[1][1] = 190.9733070521226\n",
    "K[0][2] = 254.93170605935475\n",
    "K[1][2] = 256.8974428996504\n",
    "K[2][2] = 1.0\n",
    "\n",
    "# Distortion parameters - equidistant\n",
    "d = np.zeros([4,1])\n",
    "d[0] = 0.0034823894022493434\n",
    "d[1] = 0.0007150348452162257\n",
    "d[2] = -0.0020532361418706202\n",
    "d[3] = 0.0002029367359\n",
    "\n",
    "# Image dimensions\n",
    "img_height = 512\n",
    "img_width = 512"
   ]
  },
  {
   "cell_type": "code",
   "execution_count": null,
   "id": "f1417e11",
   "metadata": {},
   "outputs": [],
   "source": [
    "# Experiment 1: flipped distorted image + undistort with original calibration parameters\n",
    "#*****************************************************************************************\n",
    "img_dist_flip = cv2.flip(img_dist, 0)\n",
    "\n",
    "# Undistort the image with the original calibration parameters\n",
    "img_dist_flip_undist = cv2.fisheye.undistortImage(distorted=img_dist_flip, K=K, D=d, Knew=K)\n",
    "\n",
    "# Show the distorted flipped image\n",
    "plt.title('Distorted+Flipped TUM-VI Image')\n",
    "plt.imshow(cv2.cvtColor(img_dist_flip, cv2.COLOR_GRAY2RGB))\n",
    "plt.show()\n",
    "\n",
    "# Show the distorted flipped image plus undistortion\n",
    "plt.title('Distorted+Flipped+Undistortion TUM-VI Image')\n",
    "plt.imshow(cv2.cvtColor(img_dist_flip_undist, cv2.COLOR_GRAY2RGB))\n",
    "plt.show()"
   ]
  },
  {
   "cell_type": "code",
   "execution_count": null,
   "id": "3d6c546b",
   "metadata": {},
   "outputs": [],
   "source": [
    "# Experiment 2: undistort image + flip image\n",
    "#*****************************************************************************************\n",
    "# Undistort the image with the original calibration parameters\n",
    "img_undist = cv2.fisheye.undistortImage(distorted=img_dist, K=K, D=d, Knew=K)\n",
    "\n",
    "# Flip the image vertically\n",
    "img_undist_flip = cv2.flip(img_undist, 0)\n",
    "\n",
    "# Show the undistorted image\n",
    "plt.title('Undistorted TUM-VI Image')\n",
    "plt.imshow(cv2.cvtColor(img_undist, cv2.COLOR_GRAY2RGB))\n",
    "plt.show()\n",
    "\n",
    "# Show the distorted flipped image plus undistortion\n",
    "plt.title('Undistorted+Flipped TUM-VI Image')\n",
    "plt.imshow(cv2.cvtColor(img_undist_flip, cv2.COLOR_GRAY2RGB))\n",
    "plt.show()"
   ]
  },
  {
   "cell_type": "code",
   "execution_count": null,
   "id": "5ea61b1b",
   "metadata": {},
   "outputs": [],
   "source": [
    "# Experiment 3: flipped distorted image + undistort with corrected principal point\n",
    "#*****************************************************************************************\n",
    "img_dist_flip = cv2.flip(img_dist, 0)\n",
    "\n",
    "# Undistort the image with the original calibration parameters\n",
    "# We need to update the principal point in case the principal point was not in the middle of the image\n",
    "K2 = np.zeros([3,3])\n",
    "K2[0][0] = K[0][0]\n",
    "K2[1][1] = K[1][1]\n",
    "K2[0][2] = img_width-K[0][2]\n",
    "K2[1][2] = img_height-K[1][2]\n",
    "K2[2][2] = 1.0\n",
    "\n",
    "img_dist_flip_undist_2 = cv2.fisheye.undistortImage(distorted=img_dist_flip, K=K2, D=d, Knew=K2)\n",
    "\n",
    "# Show the distorted flipped image plus undistortion\n",
    "plt.title('Distorted+Flipped+Undistortion with Corrected Principal Point TUM-VI Image')\n",
    "plt.imshow(cv2.cvtColor(img_dist_flip_undist_2, cv2.COLOR_GRAY2RGB))\n",
    "plt.show()"
   ]
  },
  {
   "cell_type": "code",
   "execution_count": 3,
   "id": "b3682222",
   "metadata": {},
   "outputs": [],
   "source": [
    "# Compute the sum of all pixel values in an image\n",
    "def compute_sum_pixel_values(img):\n",
    "    \n",
    "    value = 0.0\n",
    "    num_pixels = img.shape[0]*img.shape[1]\n",
    "    for i in range(img.shape[0]):\n",
    "        for j in range(img.shape[1]):\n",
    "            value += img[i][j]\n",
    "            \n",
    "    return value/num_pixels"
   ]
  },
  {
   "cell_type": "code",
   "execution_count": 4,
   "id": "8ccb78c2",
   "metadata": {},
   "outputs": [
    {
     "ename": "NameError",
     "evalue": "name 'img_dist_flip_undist' is not defined",
     "output_type": "error",
     "traceback": [
      "\u001b[0;31m---------------------------------------------------------------------------\u001b[0m",
      "\u001b[0;31mNameError\u001b[0m                                 Traceback (most recent call last)",
      "Cell \u001b[0;32mIn[4], line 2\u001b[0m\n\u001b[1;32m      1\u001b[0m \u001b[38;5;66;03m# Compute difference between the two images from the experiments above\u001b[39;00m\n\u001b[0;32m----> 2\u001b[0m img_diff \u001b[38;5;241m=\u001b[39m cv2\u001b[38;5;241m.\u001b[39mabsdiff(\u001b[43mimg_dist_flip_undist\u001b[49m, img_undist_flip)\n\u001b[1;32m      3\u001b[0m img_diff_2 \u001b[38;5;241m=\u001b[39m cv2\u001b[38;5;241m.\u001b[39mabsdiff(img_dist_flip_undist_2, img_undist_flip)\n\u001b[1;32m      5\u001b[0m \u001b[38;5;28mprint\u001b[39m(\u001b[38;5;124m'\u001b[39m\u001b[38;5;124mError Experiment 1 [gray values/pixel]: \u001b[39m\u001b[38;5;124m'\u001b[39m, compute_sum_pixel_values(img_diff))\n",
      "\u001b[0;31mNameError\u001b[0m: name 'img_dist_flip_undist' is not defined"
     ]
    }
   ],
   "source": [
    "# Compute difference between the two images from the experiments above\n",
    "img_diff = cv2.absdiff(img_dist_flip_undist, img_undist_flip)\n",
    "img_diff_2 = cv2.absdiff(img_dist_flip_undist_2, img_undist_flip)\n",
    "\n",
    "print('Error Experiment 1 [gray values/pixel]: ', compute_sum_pixel_values(img_diff))\n",
    "print('Error Experiment 2 [gray values/pixel]: ', compute_sum_pixel_values(img_diff_2))\n",
    "\n",
    "plt.title('Diff Image: Undistort+Flip vs Distorted+Flip+Undistort with K')\n",
    "plt.imshow(cv2.cvtColor(img_diff, cv2.COLOR_GRAY2BGR))\n",
    "plt.show()\n",
    "\n",
    "plt.title('Diff Image 2: Undistort+Flip vs Distorted+Flip+Undistort with K corrected')\n",
    "plt.imshow(cv2.cvtColor(img_diff_2, cv2.COLOR_GRAY2BGR))\n",
    "plt.show()\n",
    "\n",
    "# Save images to disk\n",
    "cv2.imwrite(figures_path + 'img_dist_flip_undist.png', img_dist_flip_undist)\n",
    "cv2.imwrite(figures_path + 'img_undist_flip.png', img_undist_flip)\n",
    "cv2.imwrite(figures_path + 'img_dist_flip_undist2.png', img_dist_flip_undist_2)\n",
    "cv2.imwrite(figures_path + 'img_diff.png', img_diff)\n",
    "cv2.imwrite(figures_path + 'img_diff_2.png', img_diff_2)"
   ]
  },
  {
   "cell_type": "code",
   "execution_count": null,
   "id": "366ef2c8",
   "metadata": {},
   "outputs": [],
   "source": []
  },
  {
   "cell_type": "code",
   "execution_count": null,
   "id": "8127fb34",
   "metadata": {},
   "outputs": [],
   "source": []
  },
  {
   "cell_type": "code",
   "execution_count": null,
   "id": "5608d1b6",
   "metadata": {},
   "outputs": [],
   "source": []
  },
  {
   "cell_type": "code",
   "execution_count": null,
   "id": "11af0f44",
   "metadata": {},
   "outputs": [],
   "source": []
  }
 ],
 "metadata": {
  "kernelspec": {
   "display_name": "Python 3 (ipykernel)",
   "language": "python",
   "name": "python3"
  },
  "language_info": {
   "codemirror_mode": {
    "name": "ipython",
    "version": 3
   },
   "file_extension": ".py",
   "mimetype": "text/x-python",
   "name": "python",
   "nbconvert_exporter": "python",
   "pygments_lexer": "ipython3",
   "version": "3.10.13"
  }
 },
 "nbformat": 4,
 "nbformat_minor": 5
}
