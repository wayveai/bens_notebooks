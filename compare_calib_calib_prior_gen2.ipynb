{
 "cells": [
  {
   "cell_type": "code",
   "execution_count": 162,
   "metadata": {},
   "outputs": [],
   "source": [
    "from pathlib import Path\n",
    "from wayve.core.calibration.load_calibration import load_calibration_textproto, load_v2_textproto\n",
    "from infrastructure.robot.fleet import get_fleet_data\n",
    "from google.protobuf.text_format import MessageToString\n",
    "from google.protobuf.json_format import MessageToDict\n",
    "import json\n",
    "\n",
    "VEHICLES = list(get_fleet_data().keys())\n",
    "\n",
    "REPO_ROOT = \"/home/benjin/Development/wcs/WayveCode\"\n",
    "CALIBRATION_DIR = Path(REPO_ROOT) / \"infrastructure\" / \"robot\" / \"config\"\n",
    "\n",
    "OUTPUT_DIR = Path(\"/mnt/remote/data/benjin/tmp_share/notebooks/out/align_calib_calib_prior\")\n",
    "OUTPUT_DIR.mkdir(parents=True, exist_ok=True)"
   ]
  },
  {
   "cell_type": "code",
   "execution_count": 163,
   "metadata": {},
   "outputs": [
    {
     "name": "stdout",
     "output_type": "stream",
     "text": [
      "Failed for avon: [Errno 2] No such file or directory: '/home/benjin/Development/wcs/WayveCode/infrastructure/robot/config/avon/wayve-interfaces-protobuf-VehicleCalibration_.textproto'\n",
      "Failed for beni: [Errno 2] No such file or directory: '/home/benjin/Development/wcs/WayveCode/infrastructure/robot/config/beni/wayve-interfaces-protobuf-VehicleCalibration_.textproto'\n",
      "Failed for brizo: [Errno 2] No such file or directory: '/home/benjin/Development/wcs/WayveCode/infrastructure/robot/config/brizo/wayve-interfaces-protobuf-VehicleCalibration_.textproto'\n",
      "Failed for congo: [Errno 2] No such file or directory: '/home/benjin/Development/wcs/WayveCode/infrastructure/robot/config/congo/wayve-interfaces-protobuf-VehicleCalibration_.textproto'\n",
      "Failed for ebisu: [Errno 2] No such file or directory: '/home/benjin/Development/wcs/WayveCode/infrastructure/robot/config/ebisu/wayve-interfaces-protobuf-VehicleCalibration_.textproto'\n",
      "Failed for nammu: [Errno 2] No such file or directory: '/home/benjin/Development/wcs/WayveCode/infrastructure/robot/config/nammu/wayve-interfaces-protobuf-VehicleCalibration_.textproto'\n",
      "Failed for neptune: [Errno 2] No such file or directory: '/home/benjin/Development/wcs/WayveCode/infrastructure/robot/config/neptune/wayve-interfaces-protobuf-VehicleCalibration_.textproto'\n",
      "Failed for nereus: [Errno 2] No such file or directory: '/home/benjin/Development/wcs/WayveCode/infrastructure/robot/config/nereus/wayve-interfaces-protobuf-VehicleCalibration_.textproto'\n",
      "Failed for oya: [Errno 2] No such file or directory: '/home/benjin/Development/wcs/WayveCode/infrastructure/robot/config/oya/wayve-interfaces-protobuf-VehicleCalibration_.textproto'\n",
      "Failed for poseidon: [Errno 2] No such file or directory: '/home/benjin/Development/wcs/WayveCode/infrastructure/robot/config/poseidon/wayve-interfaces-protobuf-VehicleCalibration_.textproto'\n",
      "Failed for sedna: [Errno 2] No such file or directory: '/home/benjin/Development/wcs/WayveCode/infrastructure/robot/config/sedna/wayve-interfaces-protobuf-VehicleCalibration_.textproto'\n",
      "Failed for hil: [Errno 2] No such file or directory: '/home/benjin/Development/wcs/WayveCode/infrastructure/robot/config/hil/wayve-interfaces-protobuf-VehicleCalibration_.textproto'\n",
      "Failed for primrose: [Errno 2] No such file or directory: '/home/benjin/Development/wcs/WayveCode/infrastructure/robot/config/primrose/wayve-interfaces-protobuf-VehicleCalibration_.textproto'\n",
      "Failed for highgate: [Errno 2] No such file or directory: '/home/benjin/Development/wcs/WayveCode/infrastructure/robot/config/highgate/wayve-interfaces-protobuf-VehicleCalibration_.textproto'\n",
      "Failed for richmond: [Errno 2] No such file or directory: '/home/benjin/Development/wcs/WayveCode/infrastructure/robot/config/richmond/wayve-interfaces-protobuf-VehicleCalibration_.textproto'\n",
      "Success for golders\n",
      "Success for lbn00002\n",
      "Success for darling\n",
      "Success for shire\n",
      "Success for danube\n",
      "Success for po\n",
      "Success for ganges\n",
      "Success for thames\n",
      "Success for orinoco\n",
      "Success for jordan\n",
      "Success for mono\n",
      "Success for mekong\n",
      "Success for ebro\n",
      "Success for elbe\n",
      "Success for colorado\n",
      "Success for hudson\n",
      "Success for moose\n",
      "Success for spoon\n",
      "Success for mbn00002\n",
      "Success for mbn00003\n"
     ]
    }
   ],
   "source": [
    "def get_calibration_gen2(vehicle_dir: Path, prior: bool):\n",
    "    if prior:\n",
    "        textproto_file = vehicle_dir / \"wayve-interfaces-protobuf-VehicleCalibration_default.textproto\"\n",
    "    \n",
    "    else:\n",
    "        textproto_file = vehicle_dir / \"wayve-interfaces-protobuf-VehicleCalibration_.textproto\"\n",
    "\n",
    "    calib = load_v2_textproto(textproto_file)\n",
    "    return calib\n",
    "\n",
    "for vehicle in VEHICLES:\n",
    "\n",
    "    try:\n",
    "        vehicle_dir = CALIBRATION_DIR / vehicle\n",
    "        calib = get_calibration_gen2(vehicle_dir, prior=False)\n",
    "        calib_prior = get_calibration_gen2(vehicle_dir, prior=True)\n",
    "\n",
    "        # Sort for easier comparison\n",
    "        calib_dict = MessageToDict(calib)\n",
    "        calib_prior_dict = MessageToDict(calib_prior)\n",
    "        calib_dict[\"sensorCalibrations\"] = {key: calib_dict[\"sensorCalibrations\"][key] for key in sorted(calib_dict[\"sensorCalibrations\"].keys())}\n",
    "        calib_prior_dict[\"sensorCalibrations\"] = {key: calib_prior_dict[\"sensorCalibrations\"][key] for key in sorted(calib_prior_dict[\"sensorCalibrations\"].keys())}\n",
    "\n",
    "        output_dir = OUTPUT_DIR / vehicle\n",
    "        output_dir.mkdir(parents=True, exist_ok=True)\n",
    "        json.dump(calib_dict, open(output_dir / \"vehicle_calibration.json\", \"w\"), indent=4)\n",
    "        json.dump(calib_prior_dict, open(output_dir / \"vehicle_calibration_default.json\", \"w\"), indent=4)\n",
    "        print(f\"Success for {vehicle}\")\n",
    "    except Exception as e:\n",
    "        print(f\"Failed for {vehicle}: {e}\")\n",
    "        continue"
   ]
  },
  {
   "cell_type": "code",
   "execution_count": null,
   "metadata": {},
   "outputs": [],
   "source": []
  }
 ],
 "metadata": {
  "kernelspec": {
   "display_name": "Python 3 (ipykernel)",
   "language": "python",
   "name": "python3"
  },
  "language_info": {
   "codemirror_mode": {
    "name": "ipython",
    "version": 3
   },
   "file_extension": ".py",
   "mimetype": "text/x-python",
   "name": "python",
   "nbconvert_exporter": "python",
   "pygments_lexer": "ipython3",
   "version": "3.10.13"
  }
 },
 "nbformat": 4,
 "nbformat_minor": 2
}
