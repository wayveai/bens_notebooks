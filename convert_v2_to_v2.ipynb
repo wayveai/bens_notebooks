{
 "cells": [
  {
   "cell_type": "code",
   "execution_count": 3,
   "metadata": {},
   "outputs": [],
   "source": [
    "from wayve.core.calibration.backcompat_support import convert_to_v1\n",
    "from wayve.core.calibration.load_calibration import load_v2_textproto\n",
    "from google.protobuf.text_format import MessageToString\n",
    "from pathlib import Path\n",
    "\n",
    "FILE_PATH = Path(\"/home/benjin/Development/wcs/WayveCode/wayve/core/calibration/records/brizo/2024-07-25--12-50-00.textproto\")"
   ]
  },
  {
   "cell_type": "code",
   "execution_count": 4,
   "metadata": {},
   "outputs": [],
   "source": [
    "vc = load_v2_textproto(FILE_PATH)\n",
    "cs = convert_to_v1(vc)\n",
    "\n",
    "out_calib_str = MessageToString(cs, indent=1, use_short_repeated_primitives=True)\n",
    "\n",
    "with open(FILE_PATH, \"w\") as f:\n",
    "    f.write(out_calib_str)"
   ]
  },
  {
   "cell_type": "code",
   "execution_count": null,
   "metadata": {},
   "outputs": [],
   "source": [
    "sensor_calibrations {\n",
    "   key: \"back-backward\"\n",
    "   value {\n",
    "     metadata {\n",
    "       serial_number: \"070101691159\"\n",
    "       name: \"back-backward\"\n",
    "     }\n",
    "     extrinsics {\n",
    "       destination: \"ground-nominal\"\n",
    "       translation_m {\n",
    "         x: -0.09193486\n",
    "         y: 0.010461104\n",
    "         z: 1.4201498\n",
    "       }\n",
    "       rotation {\n",
    "         x: 0.5634487\n",
    "         y: 0.544479\n",
    "         z: -0.43158078\n",
    "         w: -0.4469968\n",
    "       }\n",
    "     }\n",
    "     camera_intrinsics {\n",
    "       camera_geometry: PINHOLE_EQUI\n",
    "       focal_length_px {\n",
    "         x: 1145.4546\n",
    "         y: 1143.4895\n",
    "       }\n",
    "       principal_point_px {\n",
    "         x: 1021.4156\n",
    "         y: 645.926\n",
    "       }\n",
    "       dist_coeffs: [-0.013759, -0.063588, 0.05419, -0.019725]\n",
    "       sensor_width_px: 2048\n",
    "       sensor_height_px: 1280\n",
    "     }\n",
    "   }\n",
    " }"
   ]
  }
 ],
 "metadata": {
  "kernelspec": {
   "display_name": "Python 3 (ipykernel)",
   "language": "python",
   "name": "python3"
  }
 },
 "nbformat": 4,
 "nbformat_minor": 2
}
