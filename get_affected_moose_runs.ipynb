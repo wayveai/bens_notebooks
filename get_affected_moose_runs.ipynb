{
 "cells": [
  {
   "cell_type": "markdown",
   "metadata": {},
   "source": [
    "Get all moose run ids between the effective_from\":\"2024-06-10T14:00:00.000+01:00\",\"effective_to\":\"2024-07-18T00:00:00.000+01:00\""
   ]
  },
  {
   "cell_type": "code",
   "execution_count": 21,
   "metadata": {},
   "outputs": [
    {
     "name": "stdout",
     "output_type": "stream",
     "text": [
      "_pipeline__vehicle_platform_id    category\n",
      "run_id                            category\n",
      "run_vehicle_id                    category\n",
      "run_date_iso                      category\n",
      "run_time                          category\n",
      "run_label                         category\n",
      "sensor_calibrations                 object\n",
      "vehicle_intrinsics                  object\n",
      "dtype: object\n"
     ]
    },
    {
     "name": "stderr",
     "output_type": "stream",
     "text": [
      "/tmp/ipykernel_4142530/4184678004.py:16: DeprecationWarning: is_categorical_dtype is deprecated and will be removed in a future version. Use isinstance(dtype, pd.CategoricalDtype) instead\n",
      "  if pd.api.types.is_categorical_dtype(df['run_date_iso']):\n"
     ]
    }
   ],
   "source": [
    "from wayve.services.data.lakehouse.common.external_access.wayve_delta_table import WayveDeltaTable\n",
    "import pandas as pd\n",
    "\n",
    "START_DATE = '2024-06-10'\n",
    "END_DATE = '2024-07-18'\n",
    "VEHICLE = 'moose'\n",
    "\n",
    "def get_affected_runids():\n",
    "    df = WayveDeltaTable.from_database_and_table_name(\"inferred__metadata\", \"standardised_runtime_vehicle_calibration\").to_pandas_dataframe()\n",
    "\n",
    "    df = df[df[\"run_vehicle_id\"] == VEHICLE]\n",
    "    \n",
    "    # Print the datatypes of the columns\n",
    "    print(df.dtypes)\n",
    "\n",
    "    # Convert 'run_date_iso' to datetime if it's a categorical type or not already datetime\n",
    "    if pd.api.types.is_categorical_dtype(df['run_date_iso']):\n",
    "        df['run_date_iso'] = pd.to_datetime(df['run_date_iso'].astype(str), errors='coerce')\n",
    "    elif not pd.api.types.is_datetime64_any_dtype(df['run_date_iso']):\n",
    "        df['run_date_iso'] = pd.to_datetime(df['run_date_iso'], errors='coerce')\n",
    "\n",
    "    start_date = pd.to_datetime(START_DATE)\n",
    "    end_date = pd.to_datetime(END_DATE)\n",
    "\n",
    "    affected_runids = df[(df[\"run_date_iso\"] >= start_date) & (df[\"run_date_iso\"] <= end_date)][\"run_id\"].unique()\n",
    "\n",
    "    # Save the affected run IDs to a CSV file\n",
    "    pd.Series(affected_runids).to_csv(\"/home/benjin/Downloads/moose_affected_runids.csv\", index=False)\n",
    "\n",
    "get_affected_runids()\n"
   ]
  }
 ],
 "metadata": {
  "kernelspec": {
   "display_name": "Python 3 (ipykernel)",
   "language": "python",
   "name": "python3"
  },
  "language_info": {
   "codemirror_mode": {
    "name": "ipython",
    "version": 3
   },
   "file_extension": ".py",
   "mimetype": "text/x-python",
   "name": "python",
   "nbconvert_exporter": "python",
   "pygments_lexer": "ipython3",
   "version": "3.10.13"
  }
 },
 "nbformat": 4,
 "nbformat_minor": 2
}
