{
 "cells": [
  {
   "cell_type": "code",
   "execution_count": 153,
   "metadata": {},
   "outputs": [],
   "source": [
    "from pathlib import Path\n",
    "from wayve.core.calibration.load_calibration import load_calibration_textproto\n",
    "from infrastructure.robot.fleet import get_fleet_data\n",
    "from google.protobuf.text_format import MessageToString\n",
    "from google.protobuf.json_format import MessageToDict\n",
    "import json\n",
    "\n",
    "VEHICLES = list(get_fleet_data().keys())\n",
    "VEHICLES = [\"po\"]\n",
    "\n",
    "REPO_ROOT = \"/home/benjin/Development/wcs/WayveCode\"\n",
    "CALIBRATION_DIR = Path(REPO_ROOT) / \"infrastructure\" / \"robot\" / \"config\"\n",
    "\n",
    "OUTPUT_DIR = Path(\"/mnt/remote/data/benjin/tmp_share/notebooks/out/align_calib_calib_prior\")\n",
    "OUTPUT_DIR.mkdir(parents=True, exist_ok=True)"
   ]
  },
  {
   "cell_type": "code",
   "execution_count": 154,
   "metadata": {},
   "outputs": [
    {
     "name": "stdout",
     "output_type": "stream",
     "text": [
      "Failed for po: [Errno 2] No such file or directory: '/home/benjin/Development/wcs/WayveCode/infrastructure/robot/config/po/bb/vehicle_calibration.textproto'\n"
     ]
    }
   ],
   "source": [
    "def get_calibration_gen1(vehicle_dir: Path, prior: bool):\n",
    "    if prior:\n",
    "        textproto_file = vehicle_dir / \"bb\" / \"vehicle_calibration_default.textproto\"\n",
    "\n",
    "    else:\n",
    "        textproto_file = vehicle_dir / \"bb\" / \"vehicle_calibration.textproto\"\n",
    "\n",
    "    calib = load_calibration_textproto(textproto_file)\n",
    "    calib = convert_to_v2(calib)\n",
    "    \n",
    "    return calib\n",
    "\n",
    "for vehicle in VEHICLES:\n",
    "    try:\n",
    "        vehicle_dir = CALIBRATION_DIR / vehicle\n",
    "        calib = get_calibration_gen1(vehicle_dir, prior=False)\n",
    "        calib_prior = get_calibration_gen1(vehicle_dir, prior=True)\n",
    "\n",
    "        # Sort for easier comparison\n",
    "        calib_dict = MessageToDict(calib)\n",
    "        calib_prior_dict = MessageToDict(calib_prior)\n",
    "        calib_dict[\"sensorCalibrations\"] = {key: calib_dict[\"sensorCalibrations\"][key] for key in sorted(calib_dict[\"sensorCalibrations\"].keys())}\n",
    "        calib_prior_dict[\"sensorCalibrations\"] = {key: calib_prior_dict[\"sensorCalibrations\"][key] for key in sorted(calib_prior_dict[\"sensorCalibrations\"].keys())}\n",
    "\n",
    "        output_dir = OUTPUT_DIR / vehicle\n",
    "        output_dir.mkdir(parents=True, exist_ok=True)\n",
    "        json.dump(calib_dict, open(output_dir / \"vehicle_calibration.json\", \"w\"), indent=4)\n",
    "        json.dump(calib_prior_dict, open(output_dir / \"vehicle_calibration_default.json\", \"w\"), indent=4)\n",
    "        print(f\"Success for {vehicle}\")\n",
    "    except Exception as e:\n",
    "        print(f\"Failed for {vehicle}: {e}\")\n",
    "        continue"
   ]
  },
  {
   "cell_type": "code",
   "execution_count": null,
   "metadata": {},
   "outputs": [],
   "source": []
  }
 ],
 "metadata": {
  "kernelspec": {
   "display_name": "Python 3 (ipykernel)",
   "language": "python",
   "name": "python3"
  }
 },
 "nbformat": 4,
 "nbformat_minor": 2
}
