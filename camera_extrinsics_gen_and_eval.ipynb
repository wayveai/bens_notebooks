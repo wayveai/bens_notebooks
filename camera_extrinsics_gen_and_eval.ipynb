{
 "cells": [
  {
   "cell_type": "markdown",
   "metadata": {},
   "source": [
    "# Pull/Generate Camera Extrinsics & Intrinsics from Different Sources & Evaluate the Quality of the Extrinsics &Intrinsics Pairs using the BEV Image"
   ]
  },
  {
   "cell_type": "code",
   "execution_count": 1,
   "metadata": {},
   "outputs": [
    {
     "name": "stdout",
     "output_type": "stream",
     "text": [
      "env: WAYVE_PRODUCTION=true\n"
     ]
    }
   ],
   "source": [
    "%env WAYVE_PRODUCTION=true"
   ]
  },
  {
   "cell_type": "code",
   "execution_count": 2,
   "metadata": {},
   "outputs": [
    {
     "name": "stderr",
     "output_type": "stream",
     "text": [
      "INFO     2024-07-30 17:41:01,580 wayve.core.calibration.utils get_calibration_database_url message=using prod database\n",
      "INFO     2024-07-30 17:41:01,583 wayve.core.calibration.utils get_calibration_database_url message=using prod database\n",
      "/home/benjin/.cache/bazel/_bazel_benjin/253920fd9b6cbb686fc69e16c3d2789e/execroot/WayveCode/bazel-out/k8-opt/bin/tools/jupyter_calibration.runfiles/pip-core_pydantic/site-packages/pydantic/_internal/_fields.py:151: UserWarning: Field \"model_trace\" has conflict with protected namespace \"model_\".\n",
      "\n",
      "You may be able to resolve this warning by setting `model_config['protected_namespaces'] = ()`.\n",
      "  warnings.warn(\n",
      "INFO     2024-07-30 17:41:06,203 azure.identity._credentials.environment No environment configuration found.\n"
     ]
    }
   ],
   "source": [
    "from wayve.core.interfaces.protobuf.sensor_calibration_pb2 import CalibrationState, SensorStatus\n",
    "from wayve.interfaces.protobuf.vehicle_calibration_pb2 import VehicleCalibration\n",
    "from wayve.core.data.taxonomy import RunId\n",
    "from wayve.core.calibration.load_calibration import load_calibration, load_calibration_textproto\n",
    "from wayve.core.calibration.backcompat_support import convert_to_v1\n",
    "from wayve.core.common.logger import get_logger\n",
    "from wayve.services.data.lakehouse.pipeline_dag.tables import KEY_CALIBRATION_TABLE\n",
    "from wayve.services.data.lakehouse.common.external_access.wayve_delta_table import WayveDeltaTable\n",
    "from wayve.services.calibration.tools.verify_calibration import manual_verification\n",
    "from wayve.core.data.reference_frames import ReferenceFrame\n",
    "from pathlib import Path\n",
    "import glob\n",
    "import os\n",
    "\n",
    "from typing import Any, Optional, Union\n"
   ]
  },
  {
   "cell_type": "code",
   "execution_count": 3,
   "metadata": {},
   "outputs": [],
   "source": [
    "import importlib\n",
    "importlib.reload(manual_verification)\n",
    "ManualVerificationManager = manual_verification.ManualVerificationManager"
   ]
  },
  {
   "cell_type": "code",
   "execution_count": 4,
   "metadata": {},
   "outputs": [],
   "source": [
    "_LOGGER = get_logger(__name__)\n",
    "\n",
    "RUN_ID = \"elbe/2024-07-25--10-07-27--gen2-d97313d5-521a-40c4-a3af-cd9ba31363b4\"\n",
    "OUTPUT_DIR = Path(f\"/mnt/remote/data/benjin/extrinsics_intrinsics_eval/{RUN_ID}/\")\n",
    "\n",
    "COLMAP_MACHES = [\"ebro\", \"elbe\", \"ganges\", \"jordan\", \"mekong\", \"mono\", \"napo\", \"orinoco\", \"thames\"]\n",
    "RECORDS_DIR = Path(\"/home/benjin/Development/wcs/WayveCode/wayve/core/calibration/records\")"
   ]
  },
  {
   "cell_type": "code",
   "execution_count": 5,
   "metadata": {},
   "outputs": [
    {
     "name": "stderr",
     "output_type": "stream",
     "text": [
      "/home/benjin/.cache/bazel/_bazel_benjin/253920fd9b6cbb686fc69e16c3d2789e/execroot/WayveCode/bazel-out/k8-opt/bin/tools/jupyter_calibration.runfiles/WayveCode/wayve/services/calibration/tools/verify_calibration/verification_manager.py:137: UserWarning: CalibrationVerificationManager has not been passed template_calibration it will therefore not perform reasonable extrinsic checking\n",
      "  warnings.warn(\n",
      "INFO     2024-07-30 17:41:19,428 wayve.services.calibration.tools.verify_calibration.utils get_checkpoints_single_run message=Latitude 51.5514569 and longitude -0.1259598 of selected checkpoint\n",
      "WARNING  2024-07-30 17:41:22,252 wayve.services.calibration.tools.verify_calibration.run_image_controller get_images message=Given run passes by 1 of the given checkpoints (requested: 3). Filling up the remaining images with strided images...\n",
      "INFO     2024-07-30 17:41:24,182 wayve.services.data.common.azure.credentials get_azure_credential method=azure_cli\n"
     ]
    },
    {
     "name": "stdout",
     "output_type": "stream",
     "text": [
      "{<ReferenceFrame.CameraRightForward: 'right-forward'>, <ReferenceFrame.CameraFrontForward: 'front-forward'>, <ReferenceFrame.CameraLeftForward: 'left-forward'>}\n"
     ]
    },
    {
     "name": "stderr",
     "output_type": "stream",
     "text": [
      "INFO     2024-07-30 17:41:26,703 wayve.services.calibration.tools.verify_calibration.manual_verification bev_protofile message=intrinsics Intrinsics(scale=tensor([745.7510, 744.3447]), shift=tensor([954.4684, 527.4114]))\n",
      "INFO     2024-07-30 17:41:26,704 wayve.services.calibration.tools.verify_calibration.manual_verification bev_protofile message=Image size: (1080, 1920, 3)\n",
      "INFO     2024-07-30 17:41:26,808 wayve.services.calibration.tools.verify_calibration.manual_verification bev_protofile message=camera_pose: [[ 0.94139916  0.3355943   0.03382378]\n",
      " [-0.33713743  0.93927765  0.06399902]\n",
      " [-0.01029221 -0.07165188  0.9973766 ]]\n",
      "/home/benjin/.cache/bazel/_bazel_benjin/253920fd9b6cbb686fc69e16c3d2789e/execroot/WayveCode/bazel-out/k8-opt/bin/tools/jupyter_calibration.runfiles/pip-core_torch/site-packages/torch/functional.py:504: UserWarning: torch.meshgrid: in an upcoming release, it will be required to pass the indexing argument. (Triggered internally at /build/torch/aten/src/ATen/native/TensorShape.cpp:3526.)\n",
      "  return _VF.meshgrid(tensors, **kwargs)  # type: ignore[attr-defined]\n",
      "INFO     2024-07-30 17:41:26,991 wayve.services.calibration.tools.verify_calibration.manual_verification bev_protofile message=intrinsics Intrinsics(scale=tensor([745.7510, 744.3447]), shift=tensor([954.4684, 527.4114]))\n",
      "INFO     2024-07-30 17:41:26,992 wayve.services.calibration.tools.verify_calibration.manual_verification bev_protofile message=Image size: (1080, 1920, 3)\n"
     ]
    },
    {
     "name": "stdout",
     "output_type": "stream",
     "text": [
      "Transform3D(rotation=RotationVector3D(forward_left_up=tensor([-0.0692,  0.0225, -0.3434]), frame=[Frameless]), translation=Vector3D(forward_left_up=tensor([31.8440, -0.6187,  1.5627]), frame=[Frameless]), from_frame=[Frameless], to_frame=[Frameless])\n"
     ]
    },
    {
     "name": "stderr",
     "output_type": "stream",
     "text": [
      "INFO     2024-07-30 17:41:27,092 wayve.services.calibration.tools.verify_calibration.manual_verification bev_protofile message=camera_pose: [[ 0.94139916  0.3355943   0.03382378]\n",
      " [-0.33713743  0.93927765  0.06399902]\n",
      " [-0.01029221 -0.07165188  0.9973766 ]]\n",
      "INFO     2024-07-30 17:41:27,256 wayve.services.calibration.tools.verify_calibration.manual_verification bev_protofile message=intrinsics Intrinsics(scale=tensor([745.7510, 744.3447]), shift=tensor([954.4684, 527.4114]))\n",
      "INFO     2024-07-30 17:41:27,256 wayve.services.calibration.tools.verify_calibration.manual_verification bev_protofile message=Image size: (1080, 1920, 3)\n"
     ]
    },
    {
     "name": "stdout",
     "output_type": "stream",
     "text": [
      "Transform3D(rotation=RotationVector3D(forward_left_up=tensor([-0.0692,  0.0225, -0.3434]), frame=[Frameless]), translation=Vector3D(forward_left_up=tensor([31.8440, -0.6187,  1.5627]), frame=[Frameless]), from_frame=[Frameless], to_frame=[Frameless])\n"
     ]
    },
    {
     "name": "stderr",
     "output_type": "stream",
     "text": [
      "INFO     2024-07-30 17:41:27,358 wayve.services.calibration.tools.verify_calibration.manual_verification bev_protofile message=camera_pose: [[ 0.94139916  0.3355943   0.03382378]\n",
      " [-0.33713743  0.93927765  0.06399902]\n",
      " [-0.01029221 -0.07165188  0.9973766 ]]\n"
     ]
    },
    {
     "name": "stdout",
     "output_type": "stream",
     "text": [
      "Transform3D(rotation=RotationVector3D(forward_left_up=tensor([-0.0692,  0.0225, -0.3434]), frame=[Frameless]), translation=Vector3D(forward_left_up=tensor([31.8440, -0.6187,  1.5627]), frame=[Frameless]), from_frame=[Frameless], to_frame=[Frameless])\n"
     ]
    },
    {
     "name": "stderr",
     "output_type": "stream",
     "text": [
      "INFO     2024-07-30 17:41:28,223 wayve.services.calibration.tools.verify_calibration.manual_verification bev_protofile message=intrinsics Intrinsics(scale=tensor([1251.3334, 1246.5657]), shift=tensor([964.1292, 541.3281]))\n",
      "INFO     2024-07-30 17:41:28,224 wayve.services.calibration.tools.verify_calibration.manual_verification bev_protofile message=Image size: (1080, 1920, 3)\n",
      "INFO     2024-07-30 17:41:28,326 wayve.services.calibration.tools.verify_calibration.manual_verification bev_protofile message=camera_pose: [[ 0.99960124  0.01423129  0.02438868]\n",
      " [-0.01493513  0.99947     0.0289244 ]\n",
      " [-0.02396412 -0.02927711  0.999284  ]]\n",
      "INFO     2024-07-30 17:41:28,473 wayve.services.calibration.tools.verify_calibration.manual_verification bev_protofile message=intrinsics Intrinsics(scale=tensor([1251.3334, 1246.5657]), shift=tensor([964.1292, 541.3281]))\n",
      "INFO     2024-07-30 17:41:28,474 wayve.services.calibration.tools.verify_calibration.manual_verification bev_protofile message=Image size: (1080, 1920, 3)\n"
     ]
    },
    {
     "name": "stdout",
     "output_type": "stream",
     "text": [
      "Transform3D(rotation=RotationVector3D(forward_left_up=tensor([-0.0291,  0.0242, -0.0146]), frame=[Frameless]), translation=Vector3D(forward_left_up=tensor([31.8968, -0.0669,  1.6449]), frame=[Frameless]), from_frame=[Frameless], to_frame=[Frameless])\n"
     ]
    },
    {
     "name": "stderr",
     "output_type": "stream",
     "text": [
      "INFO     2024-07-30 17:41:28,576 wayve.services.calibration.tools.verify_calibration.manual_verification bev_protofile message=camera_pose: [[ 0.99960124  0.01423129  0.02438868]\n",
      " [-0.01493513  0.99947     0.0289244 ]\n",
      " [-0.02396412 -0.02927711  0.999284  ]]\n",
      "INFO     2024-07-30 17:41:28,742 wayve.services.calibration.tools.verify_calibration.manual_verification bev_protofile message=intrinsics Intrinsics(scale=tensor([1251.3334, 1246.5657]), shift=tensor([964.1292, 541.3281]))\n",
      "INFO     2024-07-30 17:41:28,743 wayve.services.calibration.tools.verify_calibration.manual_verification bev_protofile message=Image size: (1080, 1920, 3)\n"
     ]
    },
    {
     "name": "stdout",
     "output_type": "stream",
     "text": [
      "Transform3D(rotation=RotationVector3D(forward_left_up=tensor([-0.0291,  0.0242, -0.0146]), frame=[Frameless]), translation=Vector3D(forward_left_up=tensor([31.8968, -0.0669,  1.6449]), frame=[Frameless]), from_frame=[Frameless], to_frame=[Frameless])\n"
     ]
    },
    {
     "name": "stderr",
     "output_type": "stream",
     "text": [
      "INFO     2024-07-30 17:41:28,845 wayve.services.calibration.tools.verify_calibration.manual_verification bev_protofile message=camera_pose: [[ 0.99960124  0.01423129  0.02438868]\n",
      " [-0.01493513  0.99947     0.0289244 ]\n",
      " [-0.02396412 -0.02927711  0.999284  ]]\n"
     ]
    },
    {
     "name": "stdout",
     "output_type": "stream",
     "text": [
      "Transform3D(rotation=RotationVector3D(forward_left_up=tensor([-0.0291,  0.0242, -0.0146]), frame=[Frameless]), translation=Vector3D(forward_left_up=tensor([31.8968, -0.0669,  1.6449]), frame=[Frameless]), from_frame=[Frameless], to_frame=[Frameless])\n"
     ]
    },
    {
     "name": "stderr",
     "output_type": "stream",
     "text": [
      "INFO     2024-07-30 17:41:29,797 wayve.services.calibration.tools.verify_calibration.manual_verification bev_protofile message=intrinsics Intrinsics(scale=tensor([739.1251, 741.5219]), shift=tensor([958.0194, 529.6061]))\n",
      "INFO     2024-07-30 17:41:29,798 wayve.services.calibration.tools.verify_calibration.manual_verification bev_protofile message=Image size: (1080, 1920, 3)\n",
      "INFO     2024-07-30 17:41:29,901 wayve.services.calibration.tools.verify_calibration.manual_verification bev_protofile message=camera_pose: [[ 9.4412369e-01 -3.2675007e-01  4.3183398e-02]\n",
      " [ 3.2640883e-01  9.4511080e-01  1.4929234e-02]\n",
      " [-4.5691222e-02  3.9803422e-07  9.9895561e-01]]\n",
      "INFO     2024-07-30 17:41:30,067 wayve.services.calibration.tools.verify_calibration.manual_verification bev_protofile message=intrinsics Intrinsics(scale=tensor([739.1251, 741.5219]), shift=tensor([958.0194, 529.6061]))\n",
      "INFO     2024-07-30 17:41:30,068 wayve.services.calibration.tools.verify_calibration.manual_verification bev_protofile message=Image size: (1080, 1920, 3)\n"
     ]
    },
    {
     "name": "stdout",
     "output_type": "stream",
     "text": [
      "Transform3D(rotation=RotationVector3D(forward_left_up=tensor([-0.0076,  0.0453,  0.3328]), frame=[Frameless]), translation=Vector3D(forward_left_up=tensor([31.8609,  0.6203,  1.5009]), frame=[Frameless]), from_frame=[Frameless], to_frame=[Frameless])\n"
     ]
    },
    {
     "name": "stderr",
     "output_type": "stream",
     "text": [
      "INFO     2024-07-30 17:41:30,170 wayve.services.calibration.tools.verify_calibration.manual_verification bev_protofile message=camera_pose: [[ 9.4412369e-01 -3.2675007e-01  4.3183398e-02]\n",
      " [ 3.2640883e-01  9.4511080e-01  1.4929234e-02]\n",
      " [-4.5691222e-02  3.9803422e-07  9.9895561e-01]]\n",
      "INFO     2024-07-30 17:41:30,331 wayve.services.calibration.tools.verify_calibration.manual_verification bev_protofile message=intrinsics Intrinsics(scale=tensor([739.1251, 741.5219]), shift=tensor([958.0194, 529.6061]))\n",
      "INFO     2024-07-30 17:41:30,332 wayve.services.calibration.tools.verify_calibration.manual_verification bev_protofile message=Image size: (1080, 1920, 3)\n"
     ]
    },
    {
     "name": "stdout",
     "output_type": "stream",
     "text": [
      "Transform3D(rotation=RotationVector3D(forward_left_up=tensor([-0.0076,  0.0453,  0.3328]), frame=[Frameless]), translation=Vector3D(forward_left_up=tensor([31.8609,  0.6203,  1.5009]), frame=[Frameless]), from_frame=[Frameless], to_frame=[Frameless])\n"
     ]
    },
    {
     "name": "stderr",
     "output_type": "stream",
     "text": [
      "INFO     2024-07-30 17:41:30,432 wayve.services.calibration.tools.verify_calibration.manual_verification bev_protofile message=camera_pose: [[ 9.4412369e-01 -3.2675007e-01  4.3183398e-02]\n",
      " [ 3.2640883e-01  9.4511080e-01  1.4929234e-02]\n",
      " [-4.5691222e-02  3.9803422e-07  9.9895561e-01]]\n"
     ]
    },
    {
     "name": "stdout",
     "output_type": "stream",
     "text": [
      "Transform3D(rotation=RotationVector3D(forward_left_up=tensor([-0.0076,  0.0453,  0.3328]), frame=[Frameless]), translation=Vector3D(forward_left_up=tensor([31.8609,  0.6203,  1.5009]), frame=[Frameless]), from_frame=[Frameless], to_frame=[Frameless])\n"
     ]
    }
   ],
   "source": [
    "def generate_bev_overlay_for_run_id_and_calibration(run_id: str, output_directory: Path, calibration: Union[CalibrationState, VehicleCalibration]):\n",
    "    if isinstance(calibration, VehicleCalibration):\n",
    "        calibration = convert_to_v1(calibration)\n",
    "    \n",
    "    assert isinstance(calibration, CalibrationState)\n",
    "\n",
    "    cvm = ManualVerificationManager(\n",
    "        calibration=calibration,\n",
    "        run_id=RunId.from_string(run_id),\n",
    "        use_geo_tagging=True,\n",
    "        ckpt_threshold_m=None,\n",
    "    )\n",
    "\n",
    "    cvm._cameras_to_check = set((\n",
    "        ReferenceFrame.CameraFrontForward, ReferenceFrame.CameraLeftForward, ReferenceFrame.CameraRightForward))\n",
    "\n",
    "    _ = cvm.manual_verify_bev_overlay(png_dir=output_directory)\n",
    "\n",
    "def get_colmap_extrinsics_intrinsics(run_id: str) -> CalibrationState:\n",
    "    \"\"\"\n",
    "    The latest records files for our mach-es contain colmap extrinsics and intrinsics\n",
    "    apart from colorado.\n",
    "    \"\"\"\n",
    "    if isinstance(run_id, str):\n",
    "        run_id = RunId.from_string(run_id)\n",
    "\n",
    "    vehicle = run_id.run_vehicle_id\n",
    "\n",
    "    if vehicle not in COLMAP_MACHES:\n",
    "        raise ValueError(f\"Vehicle {vehicle} did not have colmap extrinsics and intrinsics generated\")\n",
    "    \n",
    "    # Gets the most recent records calibration for the vehicle that is before the run_datetime\n",
    "    # Need to take care to not chose a run_id from a mach-e that is before the colmap calibration\n",
    "    cal_state = load_calibration(vehicle, run_id.run_datetime)\n",
    "\n",
    "    return cal_state\n",
    "\n",
    "def get_initial_record_path(vehicle_records_dir: Path) -> Path:\n",
    "    # Get a list of all files in the directory\n",
    "    files = glob.glob(os.path.join(vehicle_records_dir.as_posix(), '*'))\n",
    "    \n",
    "    # Filter out directories, keeping only files\n",
    "    files = [f for f in files if os.path.isfile(f)]\n",
    "    \n",
    "    # Sort files lexicographically\n",
    "    files.sort()\n",
    "\n",
    "    return files[0]\n",
    "\n",
    "def half_the_resolution(calibration: CalibrationState) -> CalibrationState:\n",
    "    new_calibration = CalibrationState()\n",
    "    new_calibration.header.CopyFrom(calibration.header)\n",
    "\n",
    "    for sensor_status in calibration.state:\n",
    "        if len(sensor_status.sensors) > 1:\n",
    "            new_calibration.state.append(sensor_status)\n",
    "            continue\n",
    "\n",
    "        if sensor_status.sensors[0] not in [\"left-backward\", \"left-forward\", \"front-forward\", \"right-forward\", \"right-backward\"]:\n",
    "            new_calibration.state.append(sensor_status)\n",
    "            continue\n",
    "\n",
    "        # Create a new SensorStatus object and copy the original one\n",
    "        new_sensor_status = SensorStatus()\n",
    "        new_sensor_status.CopyFrom(sensor_status)\n",
    "        \n",
    "        # Modify the camera_matrix field\n",
    "        new_sensor_status.camera_matrix[0] /= 2\n",
    "        new_sensor_status.camera_matrix[2] /= 2\n",
    "        new_sensor_status.camera_matrix[4] /= 2\n",
    "        new_sensor_status.camera_matrix[5] /= 2\n",
    "        \n",
    "        # Add the modified SensorStatus to the new CalibrationState\n",
    "        new_calibration.state.append(new_sensor_status)\n",
    "\n",
    "    return new_calibration\n",
    "\n",
    "def get_CAD_extrinsics_entron_intrinsics(run_id: str, records_dir: Path) -> CalibrationState:\n",
    "    \"\"\"\n",
    "    Assumption is that the initial records files for our mach-es contain CAD extrinsics and entron intrinsics.\n",
    "    \"\"\"\n",
    "    if isinstance(run_id, str):\n",
    "        run_id = RunId.from_string(run_id)\n",
    "    \n",
    "    vehicle = run_id.run_vehicle_id\n",
    "\n",
    "    initial_record_path = get_initial_record_path(records_dir / vehicle)\n",
    "\n",
    "    cad_extrinsics_entron_intrinsics = load_calibration_textproto(Path(initial_record_path))\n",
    "\n",
    "    # The resolution of the cameras have halved since commissioning for all cameras except left-leftward and right-rightward\n",
    "    return half_the_resolution(cad_extrinsics_entron_intrinsics)\n",
    "\n",
    "def get_CAD_extrinsics_colmap_intrinsics(run_id: str, records_dir: Path) -> CalibrationState:\n",
    "    \"\"\"\n",
    "    Assumption is that the initial records files for our mach-es contain CAD extrinsics and \n",
    "    and that the most recent record files contain colmap intrinsics.\n",
    "    \"\"\"\n",
    "    if isinstance(run_id, str):\n",
    "        run_id = RunId.from_string(run_id)\n",
    "    \n",
    "    cad_extrinsics_entron_intrinsics = get_CAD_extrinsics_entron_intrinsics(run_id, records_dir)\n",
    "    colmap_extrinsics_intrinsics = get_colmap_extrinsics_intrinsics(run_id)\n",
    "\n",
    "    new_calibration = CalibrationState()\n",
    "    new_calibration.header.CopyFrom(cad_extrinsics_entron_intrinsics.header)\n",
    "\n",
    "    for sensor_status in cad_extrinsics_entron_intrinsics.state:\n",
    "        if len(sensor_status.sensors) > 1:\n",
    "            new_calibration.state.append(sensor_status)\n",
    "            continue\n",
    "\n",
    "        if sensor_status.sensors[0] not in [\"left-backward\", \"left-forward\", \"front-forward\", \n",
    "                                            \"right-forward\", \"right-backward\", \"left-leftward\", \"right-rightward\"]:\n",
    "            new_calibration.state.append(sensor_status)\n",
    "            continue\n",
    "\n",
    "        # Create a new SensorStatus object and copy the original one\n",
    "        new_sensor_status = SensorStatus()\n",
    "        new_sensor_status.CopyFrom(sensor_status)\n",
    "        \n",
    "        # Replace the entron intrinsics with the colmap inrinsics\n",
    "        # TBC\n",
    "\n",
    "\n",
    "        new_sensor_status.camera_matrix[0] /= 2\n",
    "        new_sensor_status.camera_matrix[2] /= 2\n",
    "        new_sensor_status.camera_matrix[4] /= 2\n",
    "        new_sensor_status.camera_matrix[5] /= 2\n",
    "        \n",
    "        # Add the modified SensorStatus to the new CalibrationState\n",
    "        new_calibration.state.append(new_sensor_status)\n",
    "\n",
    "    return new_calibration \n",
    "\n",
    "def get_two_cam_solve_calibration(run_id: str, intrinsics: Optional[Any] = None) -> Union[CalibrationState, VehicleCalibration]:\n",
    "    pass\n",
    "\n",
    "colmap_extrinsics_intrinsics = get_colmap_extrinsics_intrinsics(RUN_ID)\n",
    "generate_bev_overlay_for_run_id_and_calibration(\n",
    "    RUN_ID, \n",
    "    OUTPUT_DIR / \"colmap_extrinsics_intrinsics\", \n",
    "    colmap_extrinsics_intrinsics\n",
    ")\n",
    "\n",
    "# cad_extrinsics_entron_intrinsics = get_CAD_extrinsics_entron_intrinsics(RUN_ID, RECORDS_DIR) \n",
    "# generate_bev_overlay_for_run_id_and_calibration(\n",
    "#     RUN_ID, \n",
    "#     OUTPUT_DIR / \"cad_extrinsics_entron_intrinsics\", \n",
    "#     cad_extrinsics_entron_intrinsics\n",
    "# )"
   ]
  }
 ],
 "metadata": {
  "kernelspec": {
   "display_name": "Python 3 (ipykernel)",
   "language": "python",
   "name": "python3"
  }
 },
 "nbformat": 4,
 "nbformat_minor": 2
}
